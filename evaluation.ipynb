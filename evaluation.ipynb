{
 "cells": [
  {
   "cell_type": "code",
   "execution_count": 3,
   "metadata": {
    "scrolled": true
   },
   "outputs": [
    {
     "name": "stdout",
     "output_type": "stream",
     "text": [
      "Requirement already satisfied: pascal-voc-writer in /usr/local/lib/python3.6/dist-packages (0.1.4)\n",
      "Requirement already satisfied: jinja2 in /usr/local/lib/python3.6/dist-packages (from pascal-voc-writer) (2.10.3)\n",
      "Requirement already satisfied: MarkupSafe>=0.23 in /usr/local/lib/python3.6/dist-packages (from jinja2->pascal-voc-writer) (1.1.1)\n",
      "\u001b[33mWARNING: You are using pip version 19.3.1; however, version 20.3.3 is available.\n",
      "You should consider upgrading via the 'pip install --upgrade pip' command.\u001b[0m\n",
      "Collecting scikit-learn==0.22.2\n",
      "  Using cached https://files.pythonhosted.org/packages/e1/7f/366dcba1ba076a88a50bea732dbc033c0c5bbf7876010e6edc67948579d5/scikit_learn-0.22.2-cp36-cp36m-manylinux1_x86_64.whl\n",
      "Requirement already satisfied: numpy>=1.11.0 in /usr/local/lib/python3.6/dist-packages (from scikit-learn==0.22.2) (1.18.1)\n",
      "Requirement already satisfied: joblib>=0.11 in /usr/local/lib/python3.6/dist-packages (from scikit-learn==0.22.2) (1.0.0)\n",
      "Requirement already satisfied: scipy>=0.17.0 in /usr/local/lib/python3.6/dist-packages (from scikit-learn==0.22.2) (1.4.1)\n",
      "Installing collected packages: scikit-learn\n",
      "  Found existing installation: scikit-learn 0.24.1\n",
      "    Uninstalling scikit-learn-0.24.1:\n",
      "      Successfully uninstalled scikit-learn-0.24.1\n",
      "Successfully installed scikit-learn-0.22.2\n",
      "\u001b[33mWARNING: You are using pip version 19.3.1; however, version 20.3.3 is available.\n",
      "You should consider upgrading via the 'pip install --upgrade pip' command.\u001b[0m\n"
     ]
    }
   ],
   "source": [
    "!pip3 install pascal-voc-writer\n",
    "!pip3 install scikit-learn==0.22.2\n"
   ]
  },
  {
   "cell_type": "code",
   "execution_count": 6,
   "metadata": {},
   "outputs": [],
   "source": [
    "import argparse\n",
    "import json\n",
    "import cv2\n",
    "import numpy as np\n",
    "from yolo.frontend import create_yolo\n",
    "from yolo.backend.utils.box import draw_scaled_boxes\n",
    "from yolo.backend.utils.annotation import parse_annotation\n",
    "from yolo.backend.utils.eval.fscore import count_true_positives, calc_score\n",
    "\n",
    "from pascal_voc_writer import Writer\n",
    "from shutil import copyfile\n",
    "import os\n",
    "import yolo"
   ]
  },
  {
   "cell_type": "code",
   "execution_count": 7,
   "metadata": {},
   "outputs": [],
   "source": [
    "evaluation_object = \"fire\"\n",
    "DEFAULT_CONFIG_FILE = evaluation_object + \"/config.json\"\n",
    "DEFAULT_WEIGHT_FILE = evaluation_object + \"/weights.h5\"\n",
    "DEFAULT_THRESHOLD = 0.4\n",
    "\n",
    "with open(DEFAULT_CONFIG_FILE) as config_buffer:\n",
    "    config = json.loads(config_buffer.read())\n"
   ]
  },
  {
   "cell_type": "code",
   "execution_count": 8,
   "metadata": {},
   "outputs": [],
   "source": [
    "def create_ann(filename, image, boxes, labels,label_list):\n",
    "    if not os.path.exists('evaluation/imgs/'):\n",
    "        os.makedirs('evaluation/imgs/')\n",
    "    if not os.path.exists('evaluation/ann/'):\n",
    "        os.makedirs('evaluation/ann/')\n",
    "    copyfile(os.path.join('datasets', evaluation_object, 'images_test', filename), 'evaluation/imgs/' + filename)\n",
    "    \n",
    "    writer = Writer(os.path.join('datasets', evaluation_object, 'images_test', filename), 224, 224)\n",
    "    writer.addObject(label_list[labels[0]], boxes[0][0], boxes[0][1], boxes[0][2], boxes[0][3])\n",
    "    name = filename.split('.')\n",
    "    writer.save('evaluation/ann/' + name[0] + '.xml')"
   ]
  },
  {
   "cell_type": "code",
   "execution_count": 10,
   "metadata": {
    "scrolled": true
   },
   "outputs": [
    {
     "name": "stdout",
     "output_type": "stream",
     "text": [
      "Model: \"model_3\"\n",
      "_________________________________________________________________\n",
      "Layer (type)                 Output Shape              Param #   \n",
      "=================================================================\n",
      "input_3 (InputLayer)         [(None, 224, 224, 3)]     0         \n",
      "_________________________________________________________________\n",
      "mobilenet_0.75_224 (Model)   (None, 7, 7, 768)         1832976   \n",
      "_________________________________________________________________\n",
      "detection_layer_30 (Conv2D)  (None, 7, 7, 30)          23070     \n",
      "_________________________________________________________________\n",
      "reshape_1 (Reshape)          (None, 7, 7, 5, 6)        0         \n",
      "=================================================================\n",
      "Total params: 1,856,046\n",
      "Trainable params: 1,839,630\n",
      "Non-trainable params: 16,416\n",
      "_________________________________________________________________\n",
      "Fail to load pre-trained weights. Make sure weight file path.\n",
      "75-boxes are detected. evaluation/detected/fire_110.jpg saved.\n",
      "72-boxes are detected. evaluation/detected/fire_106.jpg saved.\n",
      "73-boxes are detected. evaluation/detected/fire_108.jpg saved.\n",
      "73-boxes are detected. evaluation/detected/fire_123.jpg saved.\n",
      "72-boxes are detected. evaluation/detected/fire_118.jpg saved.\n",
      "75-boxes are detected. evaluation/detected/fire_107.jpg saved.\n",
      "70-boxes are detected. evaluation/detected/fire_115.jpg saved.\n",
      "72-boxes are detected. evaluation/detected/fire_127.jpg saved.\n",
      "71-boxes are detected. evaluation/detected/fire_111.jpg saved.\n",
      "74-boxes are detected. evaluation/detected/fire_109.jpg saved.\n",
      "72-boxes are detected. evaluation/detected/fire_125.jpg saved.\n",
      "73-boxes are detected. evaluation/detected/fire_128.jpg saved.\n",
      "71-boxes are detected. evaluation/detected/fire_113.jpg saved.\n",
      "73-boxes are detected. evaluation/detected/fire_124.jpg saved.\n",
      "70-boxes are detected. evaluation/detected/fire_112.jpg saved.\n",
      "76-boxes are detected. evaluation/detected/fire_116.jpg saved.\n",
      "73-boxes are detected. evaluation/detected/fire_122.jpg saved.\n",
      "72-boxes are detected. evaluation/detected/fire_117.jpg saved.\n",
      "77-boxes are detected. evaluation/detected/fire_121.jpg saved.\n",
      "72-boxes are detected. evaluation/detected/fire_120.jpg saved.\n",
      "71-boxes are detected. evaluation/detected/fire_114.jpg saved.\n",
      "72-boxes are detected. evaluation/detected/fire_126.jpg saved.\n",
      "68-boxes are detected. evaluation/detected/fire_119.jpg saved.\n"
     ]
    }
   ],
   "source": [
    "# 2. create yolo instance & predict\n",
    "yolo = create_yolo(config['model']['architecture'],\n",
    "                   config['model']['labels'],\n",
    "                   config['model']['input_size'],\n",
    "                   config['model']['anchors'])\n",
    "yolo.load_weights(DEFAULT_WEIGHT_FILE)\n",
    "\n",
    "# 3. read image\n",
    "write_dname = \"evaluation/detected\"\n",
    "if not os.path.exists(write_dname): os.makedirs(write_dname)\n",
    "annotations = parse_annotation(config['train']['valid_annot_folder'],\n",
    "                               config['train']['valid_image_folder'],\n",
    "                               config['model']['labels'],\n",
    "                               is_only_detect=config['train']['is_only_detect'])\n",
    "\n",
    "#n_true_positives = 0\n",
    "#n_truth = 0\n",
    "#n_pred = 0\n",
    "#for i in range(len(annotations)):\n",
    "for filename in os.listdir('datasets/' + evaluation_object + '/images_test'):\n",
    "    img_path = os.path.join('datasets', evaluation_object, 'images_test', filename)\n",
    "    img_fname = filename\n",
    "    image = cv2.imread(img_path)\n",
    "\n",
    "    boxes, probs = yolo.predict(image, float(DEFAULT_THRESHOLD))\n",
    "    labels = np.argmax(probs, axis=1) if len(probs) > 0 else [] \n",
    "\n",
    "    # 4. save detection result\n",
    "    image = draw_scaled_boxes(image, boxes, probs, config['model']['labels'])\n",
    "    output_path = os.path.join(write_dname, os.path.split(img_fname)[-1])\n",
    "    label_list = config['model']['labels']\n",
    "    #cv2.imwrite(output_path, image)\n",
    "    print(\"{}-boxes are detected. {} saved.\".format(len(boxes), output_path))\n",
    "    if len(probs) > 0:\n",
    "        create_ann(filename,image,boxes,labels,label_list)\n",
    "        cv2.imwrite(output_path, image)\n"
   ]
  },
  {
   "cell_type": "code",
   "execution_count": null,
   "metadata": {},
   "outputs": [],
   "source": []
  }
 ],
 "metadata": {
  "kernelspec": {
   "display_name": "Python 3",
   "language": "python",
   "name": "python3"
  },
  "language_info": {
   "codemirror_mode": {
    "name": "ipython",
    "version": 3
   },
   "file_extension": ".py",
   "mimetype": "text/x-python",
   "name": "python",
   "nbconvert_exporter": "python",
   "pygments_lexer": "ipython3",
   "version": "3.6.9"
  }
 },
 "nbformat": 4,
 "nbformat_minor": 2
}
