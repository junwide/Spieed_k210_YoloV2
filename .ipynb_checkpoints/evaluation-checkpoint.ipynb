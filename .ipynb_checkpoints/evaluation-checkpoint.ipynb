{
 "cells": [
  {
   "cell_type": "code",
   "execution_count": 1,
   "metadata": {
    "scrolled": true
   },
   "outputs": [
    {
     "name": "stdout",
     "output_type": "stream",
     "text": [
      "Requirement already satisfied: pascal-voc-writer in /usr/local/lib/python3.6/dist-packages (0.1.4)\n",
      "Requirement already satisfied: jinja2 in /usr/local/lib/python3.6/dist-packages (from pascal-voc-writer) (2.10.3)\n",
      "Requirement already satisfied: MarkupSafe>=0.23 in /usr/local/lib/python3.6/dist-packages (from jinja2->pascal-voc-writer) (1.1.1)\n",
      "\u001b[33mWARNING: You are using pip version 19.3.1; however, version 20.3.3 is available.\n",
      "You should consider upgrading via the 'pip install --upgrade pip' command.\u001b[0m\n",
      "Requirement already satisfied: scikit-learn in /usr/local/lib/python3.6/dist-packages (0.24.1)\n",
      "Requirement already satisfied: scipy>=0.19.1 in /usr/local/lib/python3.6/dist-packages (from scikit-learn) (1.4.1)\n",
      "Requirement already satisfied: threadpoolctl>=2.0.0 in /usr/local/lib/python3.6/dist-packages (from scikit-learn) (2.1.0)\n",
      "Requirement already satisfied: joblib>=0.11 in /usr/local/lib/python3.6/dist-packages (from scikit-learn) (1.0.0)\n",
      "Requirement already satisfied: numpy>=1.13.3 in /usr/local/lib/python3.6/dist-packages (from scikit-learn) (1.18.1)\n",
      "\u001b[33mWARNING: You are using pip version 19.3.1; however, version 20.3.3 is available.\n",
      "You should consider upgrading via the 'pip install --upgrade pip' command.\u001b[0m\n"
     ]
    }
   ],
   "source": [
    "!pip3 install pascal-voc-writer\n",
    "!pip3 install scikit-learn==0.22.2\n"
   ]
  },
  {
   "cell_type": "code",
   "execution_count": 2,
   "metadata": {},
   "outputs": [
    {
     "ename": "ModuleNotFoundError",
     "evalue": "No module named 'sklearn.utils.linear_assignment_'",
     "output_type": "error",
     "traceback": [
      "\u001b[0;31m---------------------------------------------------------------------------\u001b[0m",
      "\u001b[0;31mModuleNotFoundError\u001b[0m                       Traceback (most recent call last)",
      "\u001b[0;32m<ipython-input-2-9db1a92f746b>\u001b[0m in \u001b[0;36m<module>\u001b[0;34m\u001b[0m\n\u001b[1;32m      6\u001b[0m \u001b[0;32mfrom\u001b[0m \u001b[0myolo\u001b[0m\u001b[0;34m.\u001b[0m\u001b[0mbackend\u001b[0m\u001b[0;34m.\u001b[0m\u001b[0mutils\u001b[0m\u001b[0;34m.\u001b[0m\u001b[0mbox\u001b[0m \u001b[0;32mimport\u001b[0m \u001b[0mdraw_scaled_boxes\u001b[0m\u001b[0;34m\u001b[0m\u001b[0;34m\u001b[0m\u001b[0m\n\u001b[1;32m      7\u001b[0m \u001b[0;32mfrom\u001b[0m \u001b[0myolo\u001b[0m\u001b[0;34m.\u001b[0m\u001b[0mbackend\u001b[0m\u001b[0;34m.\u001b[0m\u001b[0mutils\u001b[0m\u001b[0;34m.\u001b[0m\u001b[0mannotation\u001b[0m \u001b[0;32mimport\u001b[0m \u001b[0mparse_annotation\u001b[0m\u001b[0;34m\u001b[0m\u001b[0;34m\u001b[0m\u001b[0m\n\u001b[0;32m----> 8\u001b[0;31m \u001b[0;32mfrom\u001b[0m \u001b[0myolo\u001b[0m\u001b[0;34m.\u001b[0m\u001b[0mbackend\u001b[0m\u001b[0;34m.\u001b[0m\u001b[0mutils\u001b[0m\u001b[0;34m.\u001b[0m\u001b[0meval\u001b[0m\u001b[0;34m.\u001b[0m\u001b[0mfscore\u001b[0m \u001b[0;32mimport\u001b[0m \u001b[0mcount_true_positives\u001b[0m\u001b[0;34m,\u001b[0m \u001b[0mcalc_score\u001b[0m\u001b[0;34m\u001b[0m\u001b[0;34m\u001b[0m\u001b[0m\n\u001b[0m\u001b[1;32m      9\u001b[0m \u001b[0;34m\u001b[0m\u001b[0m\n\u001b[1;32m     10\u001b[0m \u001b[0;32mfrom\u001b[0m \u001b[0mpascal_voc_writer\u001b[0m \u001b[0;32mimport\u001b[0m \u001b[0mWriter\u001b[0m\u001b[0;34m\u001b[0m\u001b[0;34m\u001b[0m\u001b[0m\n",
      "\u001b[0;32m/tf/notebooks/MaixPy_YoloV2/yolo/backend/utils/eval/fscore.py\u001b[0m in \u001b[0;36m<module>\u001b[0;34m\u001b[0m\n\u001b[1;32m      1\u001b[0m \u001b[0;31m# -*- coding: utf-8 -*-\u001b[0m\u001b[0;34m\u001b[0m\u001b[0;34m\u001b[0m\u001b[0;34m\u001b[0m\u001b[0m\n\u001b[0;32m----> 2\u001b[0;31m \u001b[0;32mfrom\u001b[0m \u001b[0myolo\u001b[0m\u001b[0;34m.\u001b[0m\u001b[0mbackend\u001b[0m\u001b[0;34m.\u001b[0m\u001b[0mutils\u001b[0m\u001b[0;34m.\u001b[0m\u001b[0meval\u001b[0m\u001b[0;34m.\u001b[0m\u001b[0m_box_match\u001b[0m \u001b[0;32mimport\u001b[0m \u001b[0mBoxMatcher\u001b[0m\u001b[0;34m\u001b[0m\u001b[0;34m\u001b[0m\u001b[0m\n\u001b[0m\u001b[1;32m      3\u001b[0m \u001b[0;34m\u001b[0m\u001b[0m\n\u001b[1;32m      4\u001b[0m \u001b[0;32mdef\u001b[0m \u001b[0mcount_true_positives\u001b[0m\u001b[0;34m(\u001b[0m\u001b[0mdetect_boxes\u001b[0m\u001b[0;34m,\u001b[0m \u001b[0mtrue_boxes\u001b[0m\u001b[0;34m,\u001b[0m \u001b[0mdetect_labels\u001b[0m\u001b[0;34m=\u001b[0m\u001b[0;32mNone\u001b[0m\u001b[0;34m,\u001b[0m \u001b[0mtrue_labels\u001b[0m\u001b[0;34m=\u001b[0m\u001b[0;32mNone\u001b[0m\u001b[0;34m)\u001b[0m\u001b[0;34m:\u001b[0m\u001b[0;34m\u001b[0m\u001b[0;34m\u001b[0m\u001b[0m\n\u001b[1;32m      5\u001b[0m     \"\"\"\n",
      "\u001b[0;32m/tf/notebooks/MaixPy_YoloV2/yolo/backend/utils/eval/_box_match.py\u001b[0m in \u001b[0;36m<module>\u001b[0;34m\u001b[0m\n\u001b[1;32m      1\u001b[0m \u001b[0;31m# -*- coding: utf-8 -*-\u001b[0m\u001b[0;34m\u001b[0m\u001b[0;34m\u001b[0m\u001b[0;34m\u001b[0m\u001b[0m\n\u001b[1;32m      2\u001b[0m \u001b[0;32mimport\u001b[0m \u001b[0mnumpy\u001b[0m \u001b[0;32mas\u001b[0m \u001b[0mnp\u001b[0m\u001b[0;34m\u001b[0m\u001b[0;34m\u001b[0m\u001b[0m\n\u001b[0;32m----> 3\u001b[0;31m \u001b[0;32mfrom\u001b[0m \u001b[0msklearn\u001b[0m\u001b[0;34m.\u001b[0m\u001b[0mutils\u001b[0m\u001b[0;34m.\u001b[0m\u001b[0mlinear_assignment_\u001b[0m \u001b[0;32mimport\u001b[0m \u001b[0mlinear_assignment\u001b[0m\u001b[0;34m\u001b[0m\u001b[0;34m\u001b[0m\u001b[0m\n\u001b[0m\u001b[1;32m      4\u001b[0m \u001b[0;34m\u001b[0m\u001b[0m\n\u001b[1;32m      5\u001b[0m \u001b[0;32mclass\u001b[0m \u001b[0mBoxMatcher\u001b[0m\u001b[0;34m(\u001b[0m\u001b[0mobject\u001b[0m\u001b[0;34m)\u001b[0m\u001b[0;34m:\u001b[0m\u001b[0;34m\u001b[0m\u001b[0;34m\u001b[0m\u001b[0m\n",
      "\u001b[0;31mModuleNotFoundError\u001b[0m: No module named 'sklearn.utils.linear_assignment_'"
     ]
    }
   ],
   "source": [
    "import argparse\n",
    "import json\n",
    "import cv2\n",
    "import numpy as np\n",
    "from yolo.frontend import create_yolo\n",
    "from yolo.backend.utils.box import draw_scaled_boxes\n",
    "from yolo.backend.utils.annotation import parse_annotation\n",
    "from yolo.backend.utils.eval.fscore import count_true_positives, calc_score\n",
    "\n",
    "from pascal_voc_writer import Writer\n",
    "from shutil import copyfile\n",
    "import os\n",
    "import yolo"
   ]
  },
  {
   "cell_type": "code",
   "execution_count": 8,
   "metadata": {},
   "outputs": [],
   "source": [
    "evaluation_object = \"fire\"\n",
    "DEFAULT_CONFIG_FILE = evaluation_object + \"/config.json\"\n",
    "DEFAULT_WEIGHT_FILE = evaluation_object + \"/weights.h5\"\n",
    "DEFAULT_THRESHOLD = 0.4\n",
    "\n",
    "with open(DEFAULT_CONFIG_FILE) as config_buffer:\n",
    "    config = json.loads(config_buffer.read())\n"
   ]
  },
  {
   "cell_type": "code",
   "execution_count": 9,
   "metadata": {},
   "outputs": [],
   "source": [
    "def create_ann(filename, image, boxes, labels,label_list):\n",
    "    if not os.path.exists('evaluation/imgs/'):\n",
    "        os.makedirs('evaluation/imgs/')\n",
    "    if not os.path.exists('evaluation/ann/'):\n",
    "        os.makedirs('evaluation/ann/')\n",
    "    copyfile(os.path.join('datasets', evaluation_object, 'images_test', filename), 'evaluation/imgs/' + filename)\n",
    "    \n",
    "    writer = Writer(os.path.join('datasets', evaluation_object, 'images_test', filename), 224, 224)\n",
    "    writer.addObject(label_list[labels[0]], boxes[0][0], boxes[0][1], boxes[0][2], boxes[0][3])\n",
    "    name = filename.split('.')\n",
    "    writer.save('evaluation/ann/' + name[0] + '.xml')"
   ]
  },
  {
   "cell_type": "code",
   "execution_count": 10,
   "metadata": {
    "scrolled": true
   },
   "outputs": [
    {
     "name": "stdout",
     "output_type": "stream",
     "text": [
      "Model: \"model_1\"\n",
      "_________________________________________________________________\n",
      "Layer (type)                 Output Shape              Param #   \n",
      "=================================================================\n",
      "input_1 (InputLayer)         [(None, 224, 224, 3)]     0         \n",
      "_________________________________________________________________\n",
      "mobilenet_0.75_224 (Model)   (None, 7, 7, 768)         1832976   \n",
      "_________________________________________________________________\n",
      "detection_layer_30 (Conv2D)  (None, 7, 7, 30)          23070     \n",
      "_________________________________________________________________\n",
      "reshape (Reshape)            (None, 7, 7, 5, 6)        0         \n",
      "=================================================================\n",
      "Total params: 1,856,046\n",
      "Trainable params: 1,839,630\n",
      "Non-trainable params: 16,416\n",
      "_________________________________________________________________\n",
      "Fail to load pre-trained weights. Make sure weight file path.\n",
      "75-boxes are detected. evaluation/detected/brio_3.jpg saved.\n",
      "73-boxes are detected. evaluation/detected/brio_0.jpg saved.\n",
      "74-boxes are detected. evaluation/detected/brio_2.jpg saved.\n",
      "76-boxes are detected. evaluation/detected/brio_5.jpg saved.\n",
      "71-boxes are detected. evaluation/detected/brio_4.jpg saved.\n",
      "71-boxes are detected. evaluation/detected/brio_1.jpg saved.\n"
     ]
    }
   ],
   "source": [
    "# 2. create yolo instance & predict\n",
    "yolo = create_yolo(config['model']['architecture'],\n",
    "                   config['model']['labels'],\n",
    "                   config['model']['input_size'],\n",
    "                   config['model']['anchors'])\n",
    "yolo.load_weights(DEFAULT_WEIGHT_FILE)\n",
    "\n",
    "# 3. read image\n",
    "write_dname = \"evaluation/detected\"\n",
    "if not os.path.exists(write_dname): os.makedirs(write_dname)\n",
    "annotations = parse_annotation(config['train']['valid_annot_folder'],\n",
    "                               config['train']['valid_image_folder'],\n",
    "                               config['model']['labels'],\n",
    "                               is_only_detect=config['train']['is_only_detect'])\n",
    "\n",
    "#n_true_positives = 0\n",
    "#n_truth = 0\n",
    "#n_pred = 0\n",
    "#for i in range(len(annotations)):\n",
    "for filename in os.listdir('datasets/' + evaluation_object + '/images_test'):\n",
    "    img_path = os.path.join('datasets', evaluation_object, 'images_test', filename)\n",
    "    img_fname = filename\n",
    "    image = cv2.imread(img_path)\n",
    "\n",
    "    boxes, probs = yolo.predict(image, float(DEFAULT_THRESHOLD))\n",
    "    labels = np.argmax(probs, axis=1) if len(probs) > 0 else [] \n",
    "\n",
    "    # 4. save detection result\n",
    "    image = draw_scaled_boxes(image, boxes, probs, config['model']['labels'])\n",
    "    output_path = os.path.join(write_dname, os.path.split(img_fname)[-1])\n",
    "    label_list = config['model']['labels']\n",
    "    #cv2.imwrite(output_path, image)\n",
    "    print(\"{}-boxes are detected. {} saved.\".format(len(boxes), output_path))\n",
    "    if len(probs) > 0:\n",
    "        create_ann(filename,image,boxes,labels,label_list)\n",
    "        cv2.imwrite(output_path, image)\n"
   ]
  },
  {
   "cell_type": "code",
   "execution_count": null,
   "metadata": {},
   "outputs": [],
   "source": []
  }
 ],
 "metadata": {
  "kernelspec": {
   "display_name": "Python 3",
   "language": "python",
   "name": "python3"
  },
  "language_info": {
   "codemirror_mode": {
    "name": "ipython",
    "version": 3
   },
   "file_extension": ".py",
   "mimetype": "text/x-python",
   "name": "python",
   "nbconvert_exporter": "python",
   "pygments_lexer": "ipython3",
   "version": "3.6.9"
  }
 },
 "nbformat": 4,
 "nbformat_minor": 2
}
